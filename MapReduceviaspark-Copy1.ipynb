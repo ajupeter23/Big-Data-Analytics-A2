{
 "cells": [
  {
   "cell_type": "code",
   "execution_count": 31,
   "id": "eb462472-76d3-4576-87a6-780cc1ec32b2",
   "metadata": {},
   "outputs": [],
   "source": [
    "#set up PySpark on your machine or cluster. Ensure you have Spark installed and configured properly.\n",
    "from pyspark import SparkContext, SparkConf\n",
    "\n",
    "# Create a SparkContext (make sure to configure properly for your cluster)\n",
    "conf = SparkConf().setAppName(\"MyMapReduceJob\")\n",
    "sc = SparkContext(conf=conf)"
   ]
  },
  {
   "cell_type": "code",
   "execution_count": 33,
   "id": "516fa11c-d693-41f9-9332-4caf84b333c9",
   "metadata": {},
   "outputs": [],
   "source": [
    "# Load the data into an RDD\n",
    "lines = sc.textFile(\"retail_data.csv\")"
   ]
  },
  {
   "cell_type": "code",
   "execution_count": 34,
   "id": "9b36b4eb-e3ac-4570-8ee6-12b709ca68c3",
   "metadata": {},
   "outputs": [
    {
     "data": {
      "text/plain": [
       "retail_data.csv MapPartitionsRDD[1] at textFile at NativeMethodAccessorImpl.java:0"
      ]
     },
     "execution_count": 34,
     "metadata": {},
     "output_type": "execute_result"
    }
   ],
   "source": [
    "lines"
   ]
  },
  {
   "cell_type": "code",
   "execution_count": 35,
   "id": "45c07c43-5cb6-45b4-ae4c-bdad91cbdf67",
   "metadata": {},
   "outputs": [
    {
     "name": "stderr",
     "output_type": "stream",
     "text": [
      "                                                                                \r"
     ]
    }
   ],
   "source": [
    "# Split each line into fields and filter out the header if necessary\n",
    "header = lines.first()\n",
    "data = lines.filter(lambda line: line != header).map(lambda line: line.split(\",\"))"
   ]
  },
  {
   "cell_type": "code",
   "execution_count": 36,
   "id": "95a04648-dc18-47a4-abd3-1e0d49bf5892",
   "metadata": {},
   "outputs": [
    {
     "name": "stderr",
     "output_type": "stream",
     "text": [
      "                                                                                \r"
     ]
    },
    {
     "name": "stdout",
     "output_type": "stream",
     "text": [
      "Country: France, Total Amount: 196503.09000000037\n",
      "Country: Australia, Total Amount: 135330.1899999999\n",
      "Country: Germany, Total Amount: 220791.78000000032\n",
      "Country: EIRE, Total Amount: 249151.47999999908\n",
      "Country: Italy, Total Amount: 16506.029999999988\n",
      "Country: Lithuania, Total Amount: 1661.06\n",
      "Country: Japan, Total Amount: 34616.06\n",
      "Country: Iceland, Total Amount: 4299.800000000001\n",
      "Country: Channel Islands, Total Amount: 19950.539999999986\n",
      "Country: Cyprus, Total Amount: 12791.30999999999\n",
      "Country: Sweden, Total Amount: 36374.14999999998\n",
      "Country: Israel, Total Amount: 6953.85\n",
      "Country: Singapore, Total Amount: 9054.690000000002\n",
      "Country: Lebanon, Total Amount: 1693.8800000000003\n",
      "Country: United Arab Emirates, Total Amount: 1877.08\n",
      "Country: Saudi Arabia, Total Amount: 131.17\n",
      "Country: Czech Republic, Total Amount: 707.72\n",
      "Country: Unspecified, Total Amount: 2663.9299999999994\n",
      "Country: Bahrain, Total Amount: 548.4\n",
      "Country: United Kingdom, Total Amount: 6737626.720000062\n",
      "Country: Netherlands, Total Amount: 283440.659999999\n",
      "Country: Norway, Total Amount: 34908.13000000001\n",
      "Country: Switzerland, Total Amount: 55553.280000000086\n",
      "Country: Spain, Total Amount: 54632.86000000018\n",
      "Country: Poland, Total Amount: 7193.339999999998\n",
      "Country: Portugal, Total Amount: 28965.129999999954\n",
      "Country: Belgium, Total Amount: 40752.83000000001\n",
      "Country: Denmark, Total Amount: 18665.179999999986\n",
      "Country: Austria, Total Amount: 10149.279999999995\n",
      "Country: Finland, Total Amount: 22226.690000000002\n",
      "Country: Greece, Total Amount: 4644.82\n",
      "Country: Canada, Total Amount: 3599.6800000000017\n",
      "Country: Brazil, Total Amount: 1143.6000000000001\n",
      "Country: USA, Total Amount: 1730.9200000000003\n",
      "Country: European Community, Total Amount: 1291.75\n",
      "Country: Malta, Total Amount: 2503.1900000000005\n",
      "Country: RSA, Total Amount: 1002.3099999999998\n"
     ]
    }
   ],
   "source": [
    "# Convert data to (Country, TotalAmount) tuples with error handling\n",
    "def parse_line(fields):\n",
    "    try:\n",
    "        country = fields[8]            # Country\n",
    "        total_amount = float(fields[6]) # TotalAmount\n",
    "        # Check if country field is a valid country name (simple heuristic)\n",
    "        if not country.replace(' ', '').isalpha():\n",
    "            return None\n",
    "        return (country, total_amount)\n",
    "    except (ValueError, IndexError):\n",
    "        # Return None for invalid rows\n",
    "        return None\n",
    "\n",
    "transactions = data.map(parse_line).filter(lambda x: x is not None)\n",
    "\n",
    "# Map step: Transform (Country, TotalAmount) to (Country, TotalAmount)\n",
    "mapped = transactions.map(lambda x: (x[0], x[1]))\n",
    "\n",
    "# Reduce step: Aggregate by Country and calculate total amount\n",
    "reduced = mapped.reduceByKey(lambda x, y: x + y)\n",
    "\n",
    "# Collect the results\n",
    "results = reduced.collect()\n",
    "\n",
    "# Print results\n",
    "for country, total_amount in results:\n",
    "    print(f\"Country: {country}, Total Amount: {total_amount}\")\n",
    "\n",
    "# Stop the SparkContext\n",
    "sc.stop()"
   ]
  },
  {
   "cell_type": "code",
   "execution_count": null,
   "id": "e52be451-a062-4ba2-ad6b-7a1d4dbd6796",
   "metadata": {},
   "outputs": [],
   "source": []
  }
 ],
 "metadata": {
  "kernelspec": {
   "display_name": "anaconda-panel-2023.05-py310",
   "language": "python",
   "name": "conda-env-anaconda-panel-2023.05-py310-py"
  },
  "language_info": {
   "codemirror_mode": {
    "name": "ipython",
    "version": 3
   },
   "file_extension": ".py",
   "mimetype": "text/x-python",
   "name": "python",
   "nbconvert_exporter": "python",
   "pygments_lexer": "ipython3",
   "version": "3.11.5"
  }
 },
 "nbformat": 4,
 "nbformat_minor": 5
}
